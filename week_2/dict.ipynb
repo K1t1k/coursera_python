{
 "cells": [
  {
   "cell_type": "code",
   "execution_count": 2,
   "metadata": {},
   "outputs": [],
   "source": [
    "zen = \"\"\"Beautiful is better than ugly.\n",
    "Explicit is better than implicit.\n",
    "Simple is better than complex.\n",
    "Complex is better than complicated.\n",
    "Flat is better than nested.\n",
    "Sparse is better than dense.\n",
    "Readability counts.\n",
    "Special cases aren't special enough to break the rules.\n",
    "Although practicality beats purity.\n",
    "Errors should never pass silently.\n",
    "Unless explicitly silenced.\n",
    "In the face of ambiguity, refuse the temptation to guess.\n",
    "There should be one-- and preferably only one --obvious way to do it.\n",
    "Although that way may not be obvious at first unless you're Dutch.\n",
    "Now is better than never.\n",
    "Although never is often better than *right* now.\n",
    "If the implementation is hard to explain, it's a bad idea.\n",
    "If the implementation is easy to explain, it may be a good idea.\n",
    "Namespaces are one honking great idea -- let's do more of those!\n",
    "\"\"\""
   ]
  },
  {
   "cell_type": "code",
   "execution_count": 17,
   "metadata": {
    "scrolled": true
   },
   "outputs": [
    {
     "name": "stdout",
     "output_type": "stream",
     "text": [
      "{'': 1, 'hard': 1, 'nested': 1, 'to': 5, 'more': 1, 'ambiguity': 1, 'sparse': 1, \"let's\": 1, 'guess': 1, 'than': 8, 'there': 1, 'explain': 2, 'that': 1, 'often': 1, 'face': 1, 'good': 1, 'unless': 2, 'one': 3, 'way': 2, 'temptation': 1, 'refuse': 1, \"it's\": 1, 'silently': 1, 'are': 1, 'beautiful': 1, 'readability': 1, 'preferably': 1, 'should': 2, 'in': 1, 'those': 1, 'and': 1, '*right*': 1, 'easy': 1, 'great': 1, 'enough': 1, \"aren't\": 1, 'of': 2, 'explicitly': 1, 'the': 5, 'complex': 2, 'practicality': 1, 'if': 2, 'beats': 1, 'better': 8, 'a': 2, 'bad': 1, 'pass': 1, 'silenced': 1, 'obvious': 2, 'explicit': 1, 'at': 1, 'flat': 1, 'although': 3, 'first': 1, 'is': 10, 'counts': 1, 'do': 2, 'only': 1, 'special': 2, 'errors': 1, 'never': 3, 'break': 1, 'simple': 1, 'purity': 1, 'honking': 1, 'cases': 1, 'be': 3, \"you're\": 1, 'implicit': 1, 'may': 2, 'complicated': 1, 'idea': 3, 'now': 2, 'rules': 1, 'dense': 1, 'namespaces': 1, 'ugly': 1, 'it': 2, 'dutch': 1, 'not': 1, 'implementation': 2}\n"
     ]
    }
   ],
   "source": [
    "zen_map = dict()\n",
    "for word in zen.split():\n",
    "    cleaned_word = word.strip(' .,!-').lower()\n",
    "    if cleaned_word not in zen_map:\n",
    "        zen_map[cleaned_word] = 0\n",
    "    zen_map[cleaned_word] += 1\n",
    "    \n",
    "print(zen_map)\n"
   ]
  },
  {
   "cell_type": "code",
   "execution_count": 19,
   "metadata": {},
   "outputs": [
    {
     "name": "stdout",
     "output_type": "stream",
     "text": [
      "[('is', 10), ('than', 8), ('better', 8)]\n"
     ]
    }
   ],
   "source": [
    "import operator\n",
    "\n",
    "zen_items = zen_map.items()\n",
    "word_count_items = sorted(zen_items, key=operator.itemgetter(1), reverse=True)\n",
    "\n",
    "print(word_count_items[:3])"
   ]
  },
  {
   "cell_type": "code",
   "execution_count": 22,
   "metadata": {},
   "outputs": [
    {
     "name": "stdout",
     "output_type": "stream",
     "text": [
      "[('is', 10), ('than', 8), ('better', 8)]\n"
     ]
    }
   ],
   "source": [
    "from collections import Counter\n",
    "\n",
    "cleaned_list = []\n",
    "for word in zen.split():\n",
    "    cleaned_list.append(word.strip(' .,-!').lower())\n",
    "    \n",
    "print(Counter(cleaned_list).most_common(3))\n",
    "    "
   ]
  },
  {
   "cell_type": "code",
   "execution_count": null,
   "metadata": {},
   "outputs": [],
   "source": []
  }
 ],
 "metadata": {
  "kernelspec": {
   "display_name": "Python 3",
   "language": "python",
   "name": "python3"
  },
  "language_info": {
   "codemirror_mode": {
    "name": "ipython",
    "version": 3
   },
   "file_extension": ".py",
   "mimetype": "text/x-python",
   "name": "python",
   "nbconvert_exporter": "python",
   "pygments_lexer": "ipython3",
   "version": "3.5.2"
  }
 },
 "nbformat": 4,
 "nbformat_minor": 2
}
